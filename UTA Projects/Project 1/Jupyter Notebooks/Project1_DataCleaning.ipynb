{
 "cells": [
  {
   "cell_type": "markdown",
   "metadata": {},
   "source": [
    "***\n",
    "# UTA: WE MOVE YOU\n",
    "### Project 1: Fixed Route Traffic Stop Predictor\n",
    "***"
   ]
  },
  {
   "cell_type": "markdown",
   "metadata": {},
   "source": [
    "##### Phase 1: Data Cleaning and Wrangling\n",
    "***\n",
    "In this notebook, we will focus primarily on cleaning the data available from the _UTA Open Data_ Database.  We will ensure to the best of our ability that the data is:\n",
    "- Complete\n",
    "- Consistant\n",
    "- & Accurate (where reasonable possible to do so)\n",
    "\n",
    "\n",
    "This project series is to function as a proof of concept pursuant to our desired outcome: a _Dynamic Routing Generative AI_ for use largely for the benefit of the planning department but also could be used for quick rerouting and predicting better detours during construction periods.\n",
    "***"
   ]
  },
  {
   "cell_type": "code",
   "execution_count": null,
   "metadata": {},
   "outputs": [],
   "source": [
    "# Import Modules\n",
    "import pandas as pd\n",
    "import geopandas as gpd\n",
    "import numpy as np\n",
    "import matplotlib.pyplot as plt\n",
    "import seaborn as sns\n",
    "\n",
    "# Extra modules as needed"
   ]
  }
 ],
 "metadata": {
  "language_info": {
   "name": "python"
  }
 },
 "nbformat": 4,
 "nbformat_minor": 2
}
